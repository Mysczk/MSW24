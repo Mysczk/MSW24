{
 "cells": [
  {
   "cell_type": "markdown",
   "metadata": {},
   "source": [
    "# 1. Knihovny a moduly pro matematické výpočty "
   ]
  },
  {
   "cell_type": "code",
   "execution_count": 3,
   "metadata": {},
   "outputs": [],
   "source": [
    "import sympy\n",
    "import scipy\n",
    "import time\n",
    "import random"
   ]
  },
  {
   "cell_type": "code",
   "execution_count": 4,
   "metadata": {},
   "outputs": [
    {
     "name": "stdout",
     "output_type": "stream",
     "text": [
      " value using indexes: 2501258438; time using indexes: 0.05590510368347168\n",
      " value using zip: 2501258438; time using zip: 0.050043582916259766\n"
     ]
    }
   ],
   "source": [
    "def scalar(vektor1, vektor2):\n",
    "    if len(vektor1) != len(vektor2):\n",
    "        raise ValueError(\"Ruzna velikost vektoru\")\n",
    "    result = 0\n",
    "    for i in range(len(vektor1)):\n",
    "        result += vektor1[i]*vektor2[i]\n",
    "    return result\n",
    "\n",
    "def scalar_test(vektor1, vektor2):\n",
    "    if len(vektor1) != len(vektor2):\n",
    "        raise ValueError(\"Ruzna velikost vektoru\")\n",
    "    result = 0\n",
    "    for i, j in zip(vektor1, vektor2):\n",
    "        result += i * j\n",
    "    return result\n",
    "\n",
    "# Vektory pro testování\n",
    "vektor1 = [random.randint(0,100) for i in range(1_000_000)]\n",
    "vektor2 = [random.randint(0,100) for i in range(1_000_000)]\n",
    "times = []\n",
    "start = time.time()\n",
    "scalar_val = scalar(vektor1, vektor2)\n",
    "end = time.time()\n",
    "\n",
    "times.append(end - start)\n",
    "\n",
    "start = time.time()\n",
    "scalar_test_val = scalar_test(vektor1,vektor2)\n",
    "end = time.time()\n",
    "\n",
    "times.append(end - start)\n",
    "print(f\" value using indexes: {scalar(vektor1, vektor2)}; time using indexes: {times[0]}\")\n",
    "print(f\" value using zip: {scalar_test(vektor1, vektor2)}; time using zip: {times[1]}\")\n"
   ]
  }
 ],
 "metadata": {
  "kernelspec": {
   "display_name": "Python 3",
   "language": "python",
   "name": "python3"
  },
  "language_info": {
   "codemirror_mode": {
    "name": "ipython",
    "version": 3
   },
   "file_extension": ".py",
   "mimetype": "text/x-python",
   "name": "python",
   "nbconvert_exporter": "python",
   "pygments_lexer": "ipython3",
   "version": "3.11.5"
  }
 },
 "nbformat": 4,
 "nbformat_minor": 2
}
