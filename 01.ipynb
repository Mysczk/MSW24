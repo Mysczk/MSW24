{
 "cells": [
  {
   "cell_type": "markdown",
   "metadata": {},
   "source": [
    "# 1. Knihovny a moduly pro matematické výpočty "
   ]
  },
  {
   "cell_type": "code",
   "execution_count": 40,
   "metadata": {},
   "outputs": [],
   "source": [
    "import sympy as sy\n",
    "import scipy as sc\n",
    "import numpy as np\n",
    "import time\n",
    "import random\n",
    "import warnings"
   ]
  },
  {
   "cell_type": "code",
   "execution_count": 55,
   "metadata": {},
   "outputs": [
    {
     "name": "stdout",
     "output_type": "stream",
     "text": [
      " value using indexes: 1298848416; time using indexes: 0.17326068878173828\n",
      " value using zip: 1298848416; time using zip: 0.12715744972229004\n",
      " value using numpy: 1298848416; time using numpy: 0.0010128021240234375\n"
     ]
    }
   ],
   "source": [
    "def scalar(vektor1, vektor2):\n",
    "    if len(vektor1) != len(vektor2):\n",
    "        raise ValueError(\"Ruzna velikost vektoru\")\n",
    "    result = 0\n",
    "    for i in range(len(vektor1)):\n",
    "        result += vektor1[i]*vektor2[i]\n",
    "    return result\n",
    "\n",
    "def scalar_test(vektor1, vektor2):\n",
    "    if len(vektor1) != len(vektor2):\n",
    "        raise ValueError(\"Ruzna velikost vektoru\")\n",
    "    result = 0\n",
    "    for i, j in zip(vektor1, vektor2):\n",
    "        result += i * j\n",
    "    return result\n",
    "\n",
    "def scalar_numpy(vektor1, vektor2):\n",
    "    v1 = np.array(vektor1)\n",
    "    v2 = np.array(vektor2)\n",
    "    result = np.dot(v1, v2)\n",
    "    return result\n",
    "# Vektory pro testování\n",
    "vektor1 = np.arange(0, 300000, 3)\n",
    "vektor2 = np.arange(0, 200000,2)\n",
    "\n",
    "times = []\n",
    "start = time.time()\n",
    "scalar_val = scalar(vektor1, vektor2)\n",
    "end = time.time()\n",
    "\n",
    "times.append(end - start)\n",
    "\n",
    "start = time.time()\n",
    "scalar_test_val = scalar_test(vektor1,vektor2)\n",
    "end = time.time()\n",
    "\n",
    "times.append(end - start)\n",
    "\n",
    "start = time.time()\n",
    "scalar_num = scalar_numpy(vektor1,vektor2)\n",
    "end = time.time()\n",
    "\n",
    "times.append(end - start)\n",
    "print(f\" value using indexes: {scalar_val}; time using indexes: {times[0]}\")\n",
    "print(f\" value using zip: {scalar_test_val}; time using zip: {times[1]}\")\n",
    "print(f\" value using numpy: {scalar_num}; time using numpy: {times[2]}\")\n",
    "warnings.filterwarnings(\"ignore\")"
   ]
  }
 ],
 "metadata": {
  "kernelspec": {
   "display_name": "Python 3",
   "language": "python",
   "name": "python3"
  },
  "language_info": {
   "codemirror_mode": {
    "name": "ipython",
    "version": 3
   },
   "file_extension": ".py",
   "mimetype": "text/x-python",
   "name": "python",
   "nbconvert_exporter": "python",
   "pygments_lexer": "ipython3",
   "version": "3.11.5"
  }
 },
 "nbformat": 4,
 "nbformat_minor": 2
}
