{
 "cells": [
  {
   "cell_type": "markdown",
   "metadata": {},
   "source": [
    "# 1. Knihovny a moduly pro matematické výpočty "
   ]
  },
  {
   "cell_type": "code",
   "execution_count": 11,
   "metadata": {},
   "outputs": [],
   "source": [
    "import sympy\n",
    "import scipy\n",
    "import time\n",
    "import random"
   ]
  },
  {
   "cell_type": "code",
   "execution_count": 41,
   "metadata": {},
   "outputs": [
    {
     "name": "stdout",
     "output_type": "stream",
     "text": [
      "Skalární součin vektorů [1, 2, 3] \n",
      "a [4, 5, 6] je\n",
      " 32\n"
     ]
    }
   ],
   "source": [
    "def scalar(vektor1, vektor2):\n",
    "    if len(vektor1) != len(vektor2):\n",
    "        return \"Chyba: Vektory mají různou délku\"\n",
    "    result = 0\n",
    "    for i in range(len(vektor1)):\n",
    "        result += vektor1[i]*vektor2[i]\n",
    "    return result\n",
    "\n",
    "# Vektory pro testování\n",
    "vektor1 = [random.randint(0,100) for i in range(1000)]\n",
    "vektor2 = [random.randint(0,100) for i in range(1000)]\n",
    "scalar_val = scalar(vektor1, vektor2)\n",
    "# Výpočet a výpis výsledku\n",
    "print(\"Skalární součin vektorů\", vektor1, \"\\na\", vektor2, \"je\\n\", scalar_val)\n"
   ]
  }
 ],
 "metadata": {
  "kernelspec": {
   "display_name": "Python 3",
   "language": "python",
   "name": "python3"
  },
  "language_info": {
   "codemirror_mode": {
    "name": "ipython",
    "version": 3
   },
   "file_extension": ".py",
   "mimetype": "text/x-python",
   "name": "python",
   "nbconvert_exporter": "python",
   "pygments_lexer": "ipython3",
   "version": "3.11.5"
  }
 },
 "nbformat": 4,
 "nbformat_minor": 2
}
